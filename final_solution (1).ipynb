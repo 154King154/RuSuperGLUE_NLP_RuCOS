{
  "nbformat": 4,
  "nbformat_minor": 0,
  "metadata": {
    "colab": {
      "name": "final_solution.ipynb",
      "provenance": [],
      "collapsed_sections": [],
      "machine_shape": "hm"
    },
    "kernelspec": {
      "name": "python3",
      "display_name": "Python 3"
    },
    "accelerator": "GPU",
    "widgets": {
      "application/vnd.jupyter.widget-state+json": {
        "3fd663c5adce4e94bfcde852d18ec42b": {
          "model_module": "@jupyter-widgets/controls",
          "model_name": "HBoxModel",
          "state": {
            "_view_name": "HBoxView",
            "_dom_classes": [],
            "_model_name": "HBoxModel",
            "_view_module": "@jupyter-widgets/controls",
            "_model_module_version": "1.5.0",
            "_view_count": null,
            "_view_module_version": "1.5.0",
            "box_style": "",
            "layout": "IPY_MODEL_d7cffb35b487466091cc0ee2a2d45509",
            "_model_module": "@jupyter-widgets/controls",
            "children": [
              "IPY_MODEL_4137f1c17fb5450ba648080d53844a8c",
              "IPY_MODEL_10ca5719d9e6433f91dc56d951e89665"
            ]
          }
        },
        "d7cffb35b487466091cc0ee2a2d45509": {
          "model_module": "@jupyter-widgets/base",
          "model_name": "LayoutModel",
          "state": {
            "_view_name": "LayoutView",
            "grid_template_rows": null,
            "right": null,
            "justify_content": null,
            "_view_module": "@jupyter-widgets/base",
            "overflow": null,
            "_model_module_version": "1.2.0",
            "_view_count": null,
            "flex_flow": null,
            "width": null,
            "min_width": null,
            "border": null,
            "align_items": null,
            "bottom": null,
            "_model_module": "@jupyter-widgets/base",
            "top": null,
            "grid_column": null,
            "overflow_y": null,
            "overflow_x": null,
            "grid_auto_flow": null,
            "grid_area": null,
            "grid_template_columns": null,
            "flex": null,
            "_model_name": "LayoutModel",
            "justify_items": null,
            "grid_row": null,
            "max_height": null,
            "align_content": null,
            "visibility": null,
            "align_self": null,
            "height": null,
            "min_height": null,
            "padding": null,
            "grid_auto_rows": null,
            "grid_gap": null,
            "max_width": null,
            "order": null,
            "_view_module_version": "1.2.0",
            "grid_template_areas": null,
            "object_position": null,
            "object_fit": null,
            "grid_auto_columns": null,
            "margin": null,
            "display": null,
            "left": null
          }
        },
        "4137f1c17fb5450ba648080d53844a8c": {
          "model_module": "@jupyter-widgets/controls",
          "model_name": "FloatProgressModel",
          "state": {
            "_view_name": "ProgressView",
            "style": "IPY_MODEL_a86e9b1526494921a273c18569c9cfb4",
            "_dom_classes": [],
            "description": "Downloading: 100%",
            "_model_name": "FloatProgressModel",
            "bar_style": "success",
            "max": 1649718,
            "_view_module": "@jupyter-widgets/controls",
            "_model_module_version": "1.5.0",
            "value": 1649718,
            "_view_count": null,
            "_view_module_version": "1.5.0",
            "orientation": "horizontal",
            "min": 0,
            "description_tooltip": null,
            "_model_module": "@jupyter-widgets/controls",
            "layout": "IPY_MODEL_fb1d8b6ef41f4a86a1b78cf493ad4c8e"
          }
        },
        "10ca5719d9e6433f91dc56d951e89665": {
          "model_module": "@jupyter-widgets/controls",
          "model_name": "HTMLModel",
          "state": {
            "_view_name": "HTMLView",
            "style": "IPY_MODEL_f6dfa88796ba4b9198316a93504a5ade",
            "_dom_classes": [],
            "description": "",
            "_model_name": "HTMLModel",
            "placeholder": "​",
            "_view_module": "@jupyter-widgets/controls",
            "_model_module_version": "1.5.0",
            "value": " 1.65M/1.65M [00:00&lt;00:00, 5.97MB/s]",
            "_view_count": null,
            "_view_module_version": "1.5.0",
            "description_tooltip": null,
            "_model_module": "@jupyter-widgets/controls",
            "layout": "IPY_MODEL_0560ff3446a74c13b0ef863da5738e33"
          }
        },
        "a86e9b1526494921a273c18569c9cfb4": {
          "model_module": "@jupyter-widgets/controls",
          "model_name": "ProgressStyleModel",
          "state": {
            "_view_name": "StyleView",
            "_model_name": "ProgressStyleModel",
            "description_width": "initial",
            "_view_module": "@jupyter-widgets/base",
            "_model_module_version": "1.5.0",
            "_view_count": null,
            "_view_module_version": "1.2.0",
            "bar_color": null,
            "_model_module": "@jupyter-widgets/controls"
          }
        },
        "fb1d8b6ef41f4a86a1b78cf493ad4c8e": {
          "model_module": "@jupyter-widgets/base",
          "model_name": "LayoutModel",
          "state": {
            "_view_name": "LayoutView",
            "grid_template_rows": null,
            "right": null,
            "justify_content": null,
            "_view_module": "@jupyter-widgets/base",
            "overflow": null,
            "_model_module_version": "1.2.0",
            "_view_count": null,
            "flex_flow": null,
            "width": null,
            "min_width": null,
            "border": null,
            "align_items": null,
            "bottom": null,
            "_model_module": "@jupyter-widgets/base",
            "top": null,
            "grid_column": null,
            "overflow_y": null,
            "overflow_x": null,
            "grid_auto_flow": null,
            "grid_area": null,
            "grid_template_columns": null,
            "flex": null,
            "_model_name": "LayoutModel",
            "justify_items": null,
            "grid_row": null,
            "max_height": null,
            "align_content": null,
            "visibility": null,
            "align_self": null,
            "height": null,
            "min_height": null,
            "padding": null,
            "grid_auto_rows": null,
            "grid_gap": null,
            "max_width": null,
            "order": null,
            "_view_module_version": "1.2.0",
            "grid_template_areas": null,
            "object_position": null,
            "object_fit": null,
            "grid_auto_columns": null,
            "margin": null,
            "display": null,
            "left": null
          }
        },
        "f6dfa88796ba4b9198316a93504a5ade": {
          "model_module": "@jupyter-widgets/controls",
          "model_name": "DescriptionStyleModel",
          "state": {
            "_view_name": "StyleView",
            "_model_name": "DescriptionStyleModel",
            "description_width": "",
            "_view_module": "@jupyter-widgets/base",
            "_model_module_version": "1.5.0",
            "_view_count": null,
            "_view_module_version": "1.2.0",
            "_model_module": "@jupyter-widgets/controls"
          }
        },
        "0560ff3446a74c13b0ef863da5738e33": {
          "model_module": "@jupyter-widgets/base",
          "model_name": "LayoutModel",
          "state": {
            "_view_name": "LayoutView",
            "grid_template_rows": null,
            "right": null,
            "justify_content": null,
            "_view_module": "@jupyter-widgets/base",
            "overflow": null,
            "_model_module_version": "1.2.0",
            "_view_count": null,
            "flex_flow": null,
            "width": null,
            "min_width": null,
            "border": null,
            "align_items": null,
            "bottom": null,
            "_model_module": "@jupyter-widgets/base",
            "top": null,
            "grid_column": null,
            "overflow_y": null,
            "overflow_x": null,
            "grid_auto_flow": null,
            "grid_area": null,
            "grid_template_columns": null,
            "flex": null,
            "_model_name": "LayoutModel",
            "justify_items": null,
            "grid_row": null,
            "max_height": null,
            "align_content": null,
            "visibility": null,
            "align_self": null,
            "height": null,
            "min_height": null,
            "padding": null,
            "grid_auto_rows": null,
            "grid_gap": null,
            "max_width": null,
            "order": null,
            "_view_module_version": "1.2.0",
            "grid_template_areas": null,
            "object_position": null,
            "object_fit": null,
            "grid_auto_columns": null,
            "margin": null,
            "display": null,
            "left": null
          }
        },
        "52927ca245074f1cae2cb89848dcc67b": {
          "model_module": "@jupyter-widgets/controls",
          "model_name": "HBoxModel",
          "state": {
            "_view_name": "HBoxView",
            "_dom_classes": [],
            "_model_name": "HBoxModel",
            "_view_module": "@jupyter-widgets/controls",
            "_model_module_version": "1.5.0",
            "_view_count": null,
            "_view_module_version": "1.5.0",
            "box_style": "",
            "layout": "IPY_MODEL_8cb871c1d576426180b8ee2bd0908d77",
            "_model_module": "@jupyter-widgets/controls",
            "children": [
              "IPY_MODEL_baff2b7148a7436581d01542b476da14",
              "IPY_MODEL_65cf2acb4c064024b01cbd3e084b21bd"
            ]
          }
        },
        "8cb871c1d576426180b8ee2bd0908d77": {
          "model_module": "@jupyter-widgets/base",
          "model_name": "LayoutModel",
          "state": {
            "_view_name": "LayoutView",
            "grid_template_rows": null,
            "right": null,
            "justify_content": null,
            "_view_module": "@jupyter-widgets/base",
            "overflow": null,
            "_model_module_version": "1.2.0",
            "_view_count": null,
            "flex_flow": null,
            "width": null,
            "min_width": null,
            "border": null,
            "align_items": null,
            "bottom": null,
            "_model_module": "@jupyter-widgets/base",
            "top": null,
            "grid_column": null,
            "overflow_y": null,
            "overflow_x": null,
            "grid_auto_flow": null,
            "grid_area": null,
            "grid_template_columns": null,
            "flex": null,
            "_model_name": "LayoutModel",
            "justify_items": null,
            "grid_row": null,
            "max_height": null,
            "align_content": null,
            "visibility": null,
            "align_self": null,
            "height": null,
            "min_height": null,
            "padding": null,
            "grid_auto_rows": null,
            "grid_gap": null,
            "max_width": null,
            "order": null,
            "_view_module_version": "1.2.0",
            "grid_template_areas": null,
            "object_position": null,
            "object_fit": null,
            "grid_auto_columns": null,
            "margin": null,
            "display": null,
            "left": null
          }
        },
        "baff2b7148a7436581d01542b476da14": {
          "model_module": "@jupyter-widgets/controls",
          "model_name": "FloatProgressModel",
          "state": {
            "_view_name": "ProgressView",
            "style": "IPY_MODEL_e0b07fb548d7419d94ea7003289032aa",
            "_dom_classes": [],
            "description": "Downloading: 100%",
            "_model_name": "FloatProgressModel",
            "bar_style": "success",
            "max": 112,
            "_view_module": "@jupyter-widgets/controls",
            "_model_module_version": "1.5.0",
            "value": 112,
            "_view_count": null,
            "_view_module_version": "1.5.0",
            "orientation": "horizontal",
            "min": 0,
            "description_tooltip": null,
            "_model_module": "@jupyter-widgets/controls",
            "layout": "IPY_MODEL_e56c0d556ab646168fadc51ade797f68"
          }
        },
        "65cf2acb4c064024b01cbd3e084b21bd": {
          "model_module": "@jupyter-widgets/controls",
          "model_name": "HTMLModel",
          "state": {
            "_view_name": "HTMLView",
            "style": "IPY_MODEL_350d1801f4cd4ff491824d8152a63606",
            "_dom_classes": [],
            "description": "",
            "_model_name": "HTMLModel",
            "placeholder": "​",
            "_view_module": "@jupyter-widgets/controls",
            "_model_module_version": "1.5.0",
            "value": " 112/112 [00:00&lt;00:00, 349B/s]",
            "_view_count": null,
            "_view_module_version": "1.5.0",
            "description_tooltip": null,
            "_model_module": "@jupyter-widgets/controls",
            "layout": "IPY_MODEL_aa55f1bd00c44f638dd5985024def5cb"
          }
        },
        "e0b07fb548d7419d94ea7003289032aa": {
          "model_module": "@jupyter-widgets/controls",
          "model_name": "ProgressStyleModel",
          "state": {
            "_view_name": "StyleView",
            "_model_name": "ProgressStyleModel",
            "description_width": "initial",
            "_view_module": "@jupyter-widgets/base",
            "_model_module_version": "1.5.0",
            "_view_count": null,
            "_view_module_version": "1.2.0",
            "bar_color": null,
            "_model_module": "@jupyter-widgets/controls"
          }
        },
        "e56c0d556ab646168fadc51ade797f68": {
          "model_module": "@jupyter-widgets/base",
          "model_name": "LayoutModel",
          "state": {
            "_view_name": "LayoutView",
            "grid_template_rows": null,
            "right": null,
            "justify_content": null,
            "_view_module": "@jupyter-widgets/base",
            "overflow": null,
            "_model_module_version": "1.2.0",
            "_view_count": null,
            "flex_flow": null,
            "width": null,
            "min_width": null,
            "border": null,
            "align_items": null,
            "bottom": null,
            "_model_module": "@jupyter-widgets/base",
            "top": null,
            "grid_column": null,
            "overflow_y": null,
            "overflow_x": null,
            "grid_auto_flow": null,
            "grid_area": null,
            "grid_template_columns": null,
            "flex": null,
            "_model_name": "LayoutModel",
            "justify_items": null,
            "grid_row": null,
            "max_height": null,
            "align_content": null,
            "visibility": null,
            "align_self": null,
            "height": null,
            "min_height": null,
            "padding": null,
            "grid_auto_rows": null,
            "grid_gap": null,
            "max_width": null,
            "order": null,
            "_view_module_version": "1.2.0",
            "grid_template_areas": null,
            "object_position": null,
            "object_fit": null,
            "grid_auto_columns": null,
            "margin": null,
            "display": null,
            "left": null
          }
        },
        "350d1801f4cd4ff491824d8152a63606": {
          "model_module": "@jupyter-widgets/controls",
          "model_name": "DescriptionStyleModel",
          "state": {
            "_view_name": "StyleView",
            "_model_name": "DescriptionStyleModel",
            "description_width": "",
            "_view_module": "@jupyter-widgets/base",
            "_model_module_version": "1.5.0",
            "_view_count": null,
            "_view_module_version": "1.2.0",
            "_model_module": "@jupyter-widgets/controls"
          }
        },
        "aa55f1bd00c44f638dd5985024def5cb": {
          "model_module": "@jupyter-widgets/base",
          "model_name": "LayoutModel",
          "state": {
            "_view_name": "LayoutView",
            "grid_template_rows": null,
            "right": null,
            "justify_content": null,
            "_view_module": "@jupyter-widgets/base",
            "overflow": null,
            "_model_module_version": "1.2.0",
            "_view_count": null,
            "flex_flow": null,
            "width": null,
            "min_width": null,
            "border": null,
            "align_items": null,
            "bottom": null,
            "_model_module": "@jupyter-widgets/base",
            "top": null,
            "grid_column": null,
            "overflow_y": null,
            "overflow_x": null,
            "grid_auto_flow": null,
            "grid_area": null,
            "grid_template_columns": null,
            "flex": null,
            "_model_name": "LayoutModel",
            "justify_items": null,
            "grid_row": null,
            "max_height": null,
            "align_content": null,
            "visibility": null,
            "align_self": null,
            "height": null,
            "min_height": null,
            "padding": null,
            "grid_auto_rows": null,
            "grid_gap": null,
            "max_width": null,
            "order": null,
            "_view_module_version": "1.2.0",
            "grid_template_areas": null,
            "object_position": null,
            "object_fit": null,
            "grid_auto_columns": null,
            "margin": null,
            "display": null,
            "left": null
          }
        },
        "22062ae3b1d24643ab828b126bd08aed": {
          "model_module": "@jupyter-widgets/controls",
          "model_name": "HBoxModel",
          "state": {
            "_view_name": "HBoxView",
            "_dom_classes": [],
            "_model_name": "HBoxModel",
            "_view_module": "@jupyter-widgets/controls",
            "_model_module_version": "1.5.0",
            "_view_count": null,
            "_view_module_version": "1.5.0",
            "box_style": "",
            "layout": "IPY_MODEL_2c592afc28094ff6b8d074a806bc9358",
            "_model_module": "@jupyter-widgets/controls",
            "children": [
              "IPY_MODEL_bb17c618cb6940c4a91bf9f766f154b4",
              "IPY_MODEL_be117e4431c949e89c26309fd95c3811"
            ]
          }
        },
        "2c592afc28094ff6b8d074a806bc9358": {
          "model_module": "@jupyter-widgets/base",
          "model_name": "LayoutModel",
          "state": {
            "_view_name": "LayoutView",
            "grid_template_rows": null,
            "right": null,
            "justify_content": null,
            "_view_module": "@jupyter-widgets/base",
            "overflow": null,
            "_model_module_version": "1.2.0",
            "_view_count": null,
            "flex_flow": null,
            "width": null,
            "min_width": null,
            "border": null,
            "align_items": null,
            "bottom": null,
            "_model_module": "@jupyter-widgets/base",
            "top": null,
            "grid_column": null,
            "overflow_y": null,
            "overflow_x": null,
            "grid_auto_flow": null,
            "grid_area": null,
            "grid_template_columns": null,
            "flex": null,
            "_model_name": "LayoutModel",
            "justify_items": null,
            "grid_row": null,
            "max_height": null,
            "align_content": null,
            "visibility": null,
            "align_self": null,
            "height": null,
            "min_height": null,
            "padding": null,
            "grid_auto_rows": null,
            "grid_gap": null,
            "max_width": null,
            "order": null,
            "_view_module_version": "1.2.0",
            "grid_template_areas": null,
            "object_position": null,
            "object_fit": null,
            "grid_auto_columns": null,
            "margin": null,
            "display": null,
            "left": null
          }
        },
        "bb17c618cb6940c4a91bf9f766f154b4": {
          "model_module": "@jupyter-widgets/controls",
          "model_name": "FloatProgressModel",
          "state": {
            "_view_name": "ProgressView",
            "style": "IPY_MODEL_7f0e629d71e445a2b751995008ea0e97",
            "_dom_classes": [],
            "description": "Downloading: 100%",
            "_model_name": "FloatProgressModel",
            "bar_style": "success",
            "max": 24,
            "_view_module": "@jupyter-widgets/controls",
            "_model_module_version": "1.5.0",
            "value": 24,
            "_view_count": null,
            "_view_module_version": "1.5.0",
            "orientation": "horizontal",
            "min": 0,
            "description_tooltip": null,
            "_model_module": "@jupyter-widgets/controls",
            "layout": "IPY_MODEL_a7d2b99b851b4d7c9c5c48ce18b176bf"
          }
        },
        "be117e4431c949e89c26309fd95c3811": {
          "model_module": "@jupyter-widgets/controls",
          "model_name": "HTMLModel",
          "state": {
            "_view_name": "HTMLView",
            "style": "IPY_MODEL_0b686e274acd43c5b3bc37e3be129239",
            "_dom_classes": [],
            "description": "",
            "_model_name": "HTMLModel",
            "placeholder": "​",
            "_view_module": "@jupyter-widgets/controls",
            "_model_module_version": "1.5.0",
            "value": " 24.0/24.0 [00:00&lt;00:00, 132B/s]",
            "_view_count": null,
            "_view_module_version": "1.5.0",
            "description_tooltip": null,
            "_model_module": "@jupyter-widgets/controls",
            "layout": "IPY_MODEL_e9c9769bb8ba42b8b312d4d3f4f62909"
          }
        },
        "7f0e629d71e445a2b751995008ea0e97": {
          "model_module": "@jupyter-widgets/controls",
          "model_name": "ProgressStyleModel",
          "state": {
            "_view_name": "StyleView",
            "_model_name": "ProgressStyleModel",
            "description_width": "initial",
            "_view_module": "@jupyter-widgets/base",
            "_model_module_version": "1.5.0",
            "_view_count": null,
            "_view_module_version": "1.2.0",
            "bar_color": null,
            "_model_module": "@jupyter-widgets/controls"
          }
        },
        "a7d2b99b851b4d7c9c5c48ce18b176bf": {
          "model_module": "@jupyter-widgets/base",
          "model_name": "LayoutModel",
          "state": {
            "_view_name": "LayoutView",
            "grid_template_rows": null,
            "right": null,
            "justify_content": null,
            "_view_module": "@jupyter-widgets/base",
            "overflow": null,
            "_model_module_version": "1.2.0",
            "_view_count": null,
            "flex_flow": null,
            "width": null,
            "min_width": null,
            "border": null,
            "align_items": null,
            "bottom": null,
            "_model_module": "@jupyter-widgets/base",
            "top": null,
            "grid_column": null,
            "overflow_y": null,
            "overflow_x": null,
            "grid_auto_flow": null,
            "grid_area": null,
            "grid_template_columns": null,
            "flex": null,
            "_model_name": "LayoutModel",
            "justify_items": null,
            "grid_row": null,
            "max_height": null,
            "align_content": null,
            "visibility": null,
            "align_self": null,
            "height": null,
            "min_height": null,
            "padding": null,
            "grid_auto_rows": null,
            "grid_gap": null,
            "max_width": null,
            "order": null,
            "_view_module_version": "1.2.0",
            "grid_template_areas": null,
            "object_position": null,
            "object_fit": null,
            "grid_auto_columns": null,
            "margin": null,
            "display": null,
            "left": null
          }
        },
        "0b686e274acd43c5b3bc37e3be129239": {
          "model_module": "@jupyter-widgets/controls",
          "model_name": "DescriptionStyleModel",
          "state": {
            "_view_name": "StyleView",
            "_model_name": "DescriptionStyleModel",
            "description_width": "",
            "_view_module": "@jupyter-widgets/base",
            "_model_module_version": "1.5.0",
            "_view_count": null,
            "_view_module_version": "1.2.0",
            "_model_module": "@jupyter-widgets/controls"
          }
        },
        "e9c9769bb8ba42b8b312d4d3f4f62909": {
          "model_module": "@jupyter-widgets/base",
          "model_name": "LayoutModel",
          "state": {
            "_view_name": "LayoutView",
            "grid_template_rows": null,
            "right": null,
            "justify_content": null,
            "_view_module": "@jupyter-widgets/base",
            "overflow": null,
            "_model_module_version": "1.2.0",
            "_view_count": null,
            "flex_flow": null,
            "width": null,
            "min_width": null,
            "border": null,
            "align_items": null,
            "bottom": null,
            "_model_module": "@jupyter-widgets/base",
            "top": null,
            "grid_column": null,
            "overflow_y": null,
            "overflow_x": null,
            "grid_auto_flow": null,
            "grid_area": null,
            "grid_template_columns": null,
            "flex": null,
            "_model_name": "LayoutModel",
            "justify_items": null,
            "grid_row": null,
            "max_height": null,
            "align_content": null,
            "visibility": null,
            "align_self": null,
            "height": null,
            "min_height": null,
            "padding": null,
            "grid_auto_rows": null,
            "grid_gap": null,
            "max_width": null,
            "order": null,
            "_view_module_version": "1.2.0",
            "grid_template_areas": null,
            "object_position": null,
            "object_fit": null,
            "grid_auto_columns": null,
            "margin": null,
            "display": null,
            "left": null
          }
        }
      }
    }
  },
  "cells": [
    {
      "cell_type": "code",
      "metadata": {
        "colab": {
          "base_uri": "https://localhost:8080/"
        },
        "id": "nuA48_IJ9-Qh",
        "outputId": "92c80e9b-7896-4128-fc9c-50a76354d8d5"
      },
      "source": [
        "!wget https://onti2020.ai-academy.ru/task/rucos_train.jsonl.zip\r\n",
        "!unzip -j /content/rucos_train.jsonl.zip"
      ],
      "execution_count": null,
      "outputs": [
        {
          "output_type": "stream",
          "text": [
            "--2021-03-03 14:44:08--  https://onti2020.ai-academy.ru/task/rucos_train.jsonl.zip\n",
            "Resolving onti2020.ai-academy.ru (onti2020.ai-academy.ru)... 213.159.215.214\n",
            "Connecting to onti2020.ai-academy.ru (onti2020.ai-academy.ru)|213.159.215.214|:443... connected.\n",
            "HTTP request sent, awaiting response... 200 OK\n",
            "Length: 46875590 (45M) [application/zip]\n",
            "Saving to: ‘rucos_train.jsonl.zip’\n",
            "\n",
            "rucos_train.jsonl.z 100%[===================>]  44.70M  12.6MB/s    in 3.6s    \n",
            "\n",
            "2021-03-03 14:44:13 (12.6 MB/s) - ‘rucos_train.jsonl.zip’ saved [46875590/46875590]\n",
            "\n",
            "Archive:  /content/rucos_train.jsonl.zip\n",
            "  inflating: rucos_train.jsonl       \n",
            "  inflating: ._rucos_train.jsonl     \n"
          ],
          "name": "stdout"
        }
      ]
    },
    {
      "cell_type": "code",
      "metadata": {
        "colab": {
          "base_uri": "https://localhost:8080/"
        },
        "id": "ZJd6toOMV3kI",
        "outputId": "3ce8bce3-7463-4dca-b1fa-1bedb6cfcdd0"
      },
      "source": [
        "!wget https://onti2020.ai-academy.ru/task/rucos_val.jsonl\r\n",
        "!unzip -j /content/rucos_val.jsonl"
      ],
      "execution_count": null,
      "outputs": [
        {
          "output_type": "stream",
          "text": [
            "--2021-03-03 14:44:15--  https://onti2020.ai-academy.ru/task/rucos_val.jsonl\n",
            "Resolving onti2020.ai-academy.ru (onti2020.ai-academy.ru)... 213.159.215.214\n",
            "Connecting to onti2020.ai-academy.ru (onti2020.ai-academy.ru)|213.159.215.214|:443... connected.\n",
            "HTTP request sent, awaiting response... 200 OK\n",
            "Length: 19781301 (19M)\n",
            "Saving to: ‘rucos_val.jsonl’\n",
            "\n",
            "rucos_val.jsonl     100%[===================>]  18.86M  10.8MB/s    in 1.8s    \n",
            "\n",
            "2021-03-03 14:44:17 (10.8 MB/s) - ‘rucos_val.jsonl’ saved [19781301/19781301]\n",
            "\n",
            "Archive:  /content/rucos_val.jsonl\n",
            "  End-of-central-directory signature not found.  Either this file is not\n",
            "  a zipfile, or it constitutes one disk of a multi-part archive.  In the\n",
            "  latter case the central directory and zipfile comment will be found on\n",
            "  the last disk(s) of this archive.\n",
            "unzip:  cannot find zipfile directory in one of /content/rucos_val.jsonl or\n",
            "        /content/rucos_val.jsonl.zip, and cannot find /content/rucos_val.jsonl.ZIP, period.\n"
          ],
          "name": "stdout"
        }
      ]
    },
    {
      "cell_type": "code",
      "metadata": {
        "colab": {
          "base_uri": "https://localhost:8080/"
        },
        "id": "2Ys7A_2KV8dU",
        "outputId": "235fc881-a2d5-4235-a7df-6a81a2a24012"
      },
      "source": [
        "!wget https://onti2020.ai-academy.ru/task/rucos_test.jsonl\r\n",
        "!unzip -j /content/rucos_test.jsonl"
      ],
      "execution_count": null,
      "outputs": [
        {
          "output_type": "stream",
          "text": [
            "--2021-03-03 14:44:17--  https://onti2020.ai-academy.ru/task/rucos_test.jsonl\n",
            "Resolving onti2020.ai-academy.ru (onti2020.ai-academy.ru)... 213.159.215.214\n",
            "Connecting to onti2020.ai-academy.ru (onti2020.ai-academy.ru)|213.159.215.214|:443... connected.\n",
            "HTTP request sent, awaiting response... 200 OK\n",
            "Length: 17002756 (16M)\n",
            "Saving to: ‘rucos_test.jsonl’\n",
            "\n",
            "rucos_test.jsonl    100%[===================>]  16.21M  10.0MB/s    in 1.6s    \n",
            "\n",
            "2021-03-03 14:44:20 (10.0 MB/s) - ‘rucos_test.jsonl’ saved [17002756/17002756]\n",
            "\n",
            "Archive:  /content/rucos_test.jsonl\n",
            "  End-of-central-directory signature not found.  Either this file is not\n",
            "  a zipfile, or it constitutes one disk of a multi-part archive.  In the\n",
            "  latter case the central directory and zipfile comment will be found on\n",
            "  the last disk(s) of this archive.\n",
            "unzip:  cannot find zipfile directory in one of /content/rucos_test.jsonl or\n",
            "        /content/rucos_test.jsonl.zip, and cannot find /content/rucos_test.jsonl.ZIP, period.\n"
          ],
          "name": "stdout"
        }
      ]
    },
    {
      "cell_type": "code",
      "metadata": {
        "colab": {
          "base_uri": "https://localhost:8080/"
        },
        "id": "S2jhWGcMBxWn",
        "outputId": "fce36fcc-0aa8-4243-bd91-cc9b138414ea"
      },
      "source": [
        "!pip install transformers"
      ],
      "execution_count": null,
      "outputs": [
        {
          "output_type": "stream",
          "text": [
            "Collecting transformers\n",
            "\u001b[?25l  Downloading https://files.pythonhosted.org/packages/f9/54/5ca07ec9569d2f232f3166de5457b63943882f7950ddfcc887732fc7fb23/transformers-4.3.3-py3-none-any.whl (1.9MB)\n",
            "\u001b[K     |████████████████████████████████| 1.9MB 5.3MB/s \n",
            "\u001b[?25hCollecting sacremoses\n",
            "\u001b[?25l  Downloading https://files.pythonhosted.org/packages/7d/34/09d19aff26edcc8eb2a01bed8e98f13a1537005d31e95233fd48216eed10/sacremoses-0.0.43.tar.gz (883kB)\n",
            "\u001b[K     |████████████████████████████████| 890kB 19.1MB/s \n",
            "\u001b[?25hRequirement already satisfied: importlib-metadata; python_version < \"3.8\" in /usr/local/lib/python3.7/dist-packages (from transformers) (3.7.0)\n",
            "Requirement already satisfied: numpy>=1.17 in /usr/local/lib/python3.7/dist-packages (from transformers) (1.19.5)\n",
            "Collecting tokenizers<0.11,>=0.10.1\n",
            "\u001b[?25l  Downloading https://files.pythonhosted.org/packages/71/23/2ddc317b2121117bf34dd00f5b0de194158f2a44ee2bf5e47c7166878a97/tokenizers-0.10.1-cp37-cp37m-manylinux2010_x86_64.whl (3.2MB)\n",
            "\u001b[K     |████████████████████████████████| 3.2MB 22.4MB/s \n",
            "\u001b[?25hRequirement already satisfied: tqdm>=4.27 in /usr/local/lib/python3.7/dist-packages (from transformers) (4.41.1)\n",
            "Requirement already satisfied: filelock in /usr/local/lib/python3.7/dist-packages (from transformers) (3.0.12)\n",
            "Requirement already satisfied: regex!=2019.12.17 in /usr/local/lib/python3.7/dist-packages (from transformers) (2019.12.20)\n",
            "Requirement already satisfied: packaging in /usr/local/lib/python3.7/dist-packages (from transformers) (20.9)\n",
            "Requirement already satisfied: requests in /usr/local/lib/python3.7/dist-packages (from transformers) (2.23.0)\n",
            "Requirement already satisfied: six in /usr/local/lib/python3.7/dist-packages (from sacremoses->transformers) (1.15.0)\n",
            "Requirement already satisfied: click in /usr/local/lib/python3.7/dist-packages (from sacremoses->transformers) (7.1.2)\n",
            "Requirement already satisfied: joblib in /usr/local/lib/python3.7/dist-packages (from sacremoses->transformers) (1.0.1)\n",
            "Requirement already satisfied: zipp>=0.5 in /usr/local/lib/python3.7/dist-packages (from importlib-metadata; python_version < \"3.8\"->transformers) (3.4.0)\n",
            "Requirement already satisfied: typing-extensions>=3.6.4; python_version < \"3.8\" in /usr/local/lib/python3.7/dist-packages (from importlib-metadata; python_version < \"3.8\"->transformers) (3.7.4.3)\n",
            "Requirement already satisfied: pyparsing>=2.0.2 in /usr/local/lib/python3.7/dist-packages (from packaging->transformers) (2.4.7)\n",
            "Requirement already satisfied: urllib3!=1.25.0,!=1.25.1,<1.26,>=1.21.1 in /usr/local/lib/python3.7/dist-packages (from requests->transformers) (1.24.3)\n",
            "Requirement already satisfied: certifi>=2017.4.17 in /usr/local/lib/python3.7/dist-packages (from requests->transformers) (2020.12.5)\n",
            "Requirement already satisfied: chardet<4,>=3.0.2 in /usr/local/lib/python3.7/dist-packages (from requests->transformers) (3.0.4)\n",
            "Requirement already satisfied: idna<3,>=2.5 in /usr/local/lib/python3.7/dist-packages (from requests->transformers) (2.10)\n",
            "Building wheels for collected packages: sacremoses\n",
            "  Building wheel for sacremoses (setup.py) ... \u001b[?25l\u001b[?25hdone\n",
            "  Created wheel for sacremoses: filename="sacremoses-0.0.43-cp37-none-any.whl size=893262 sha256=298bd9cd1a177e054eb6e5eaa81f151a534ec0019522d78446e7652aed9cf61f\n",
            "  Stored in directory: /root/.cache/pip/wheels/29/3c/fd/7ce5c3f0666dab31a50123635e6fb5e19ceb42ce38d4e58f45\n",
            "Successfully built sacremoses\n",
            "Installing collected packages: sacremoses, tokenizers, transformers\n",
            "Successfully installed sacremoses-0.0.43 tokenizers-0.10.1 transformers-4.3.3\n"
          ],
          "name": "stdout"
        }
      ]
    },
    {
      "cell_type": "code",
      "metadata": {
        "colab": {
          "base_uri": "https://localhost:8080/"
        },
        "id": "Ef3FQRDTNT7g",
        "outputId": "9c2650a6-e2cd-4d04-9243-13cb4575da95"
      },
      "source": [
        "!rm -rf /content/Ranger-Deep-Learning-Optimizer\r\n",
        "!git clone https://github.com/lessw2020/Ranger-Deep-Learning-Optimizer\r\n",
        "!cd Ranger-Deep-Learning-Optimizer\r\n",
        "!pip install /content/Ranger-Deep-Learning-Optimizer/"
      ],
      "execution_count": null,
      "outputs": [
        {
          "output_type": "stream",
          "text": [
            "Cloning into 'Ranger-Deep-Learning-Optimizer'...\n",
            "remote: Enumerating objects: 66, done.\u001b[K\n",
            "remote: Counting objects: 100% (66/66), done.\u001b[K\n",
            "remote: Compressing objects: 100% (61/61), done.\u001b[K\n",
            "remote: Total 135 (delta 34), reused 17 (delta 5), pack-reused 69\u001b[K\n",
            "Receiving objects: 100% (135/135), 181.14 KiB | 3.77 MiB/s, done.\n",
            "Resolving deltas: 100% (59/59), done.\n",
            "Processing ./Ranger-Deep-Learning-Optimizer\n",
            "Requirement already satisfied: torch in /usr/local/lib/python3.7/dist-packages (from ranger==0.1.dev0) (1.7.1+cu101)\n",
            "Requirement already satisfied: numpy in /usr/local/lib/python3.7/dist-packages (from torch->ranger==0.1.dev0) (1.19.5)\n",
            "Requirement already satisfied: typing-extensions in /usr/local/lib/python3.7/dist-packages (from torch->ranger==0.1.dev0) (3.7.4.3)\n",
            "Building wheels for collected packages: ranger\n",
            "  Building wheel for ranger (setup.py) ... \u001b[?25l\u001b[?25hdone\n",
            "  Created wheel for ranger: filename=ranger-0.1.dev0-cp37-none-any.whl size=18088 sha256=16378121cd571dfb49a724327fdfa828bd5cdf2ccdc7590977512ee838180b61\n",
            "  Stored in directory: /root/.cache/pip/wheels/34/d7/2f/39ade67c9bee7a716effde71e3fe5d5a5a0eb63dd9409cdbfd\n",
            "Successfully built ranger\n",
            "Installing collected packages: ranger\n",
            "Successfully installed ranger-0.1.dev0\n"
          ],
          "name": "stdout"
        }
      ]
    },
    {
      "cell_type": "code",
      "metadata": {
        "colab": {
          "base_uri": "https://localhost:8080/"
        },
        "id": "R-o6fVvCmhSU",
        "outputId": "b37279de-bc50-4e0d-d3a6-2f187d37f475"
      },
      "source": [
        "import torch\r\n",
        "\r\n",
        "if torch.cuda.is_available():       \r\n",
        "    device = torch.device(\"cuda\")\r\n",
        "\r\n",
        "    print('There are %d GPU(s) available.' % torch.cuda.device_count())\r\n",
        "\r\n",
        "    print('We will use the GPU:', torch.cuda.get_device_name(0))\r\n",
        "else:\r\n",
        "    print('No GPU available, using the CPU instead.')\r\n",
        "    device = torch.device(\"cpu\")"
      ],
      "execution_count": null,
      "outputs": [
        {
          "output_type": "stream",
          "text": [
            "There are 1 GPU(s) available.\n",
            "We will use the GPU: Tesla P100-PCIE-16GB\n"
          ],
          "name": "stdout"
        }
      ]
    },
    {
      "cell_type": "code",
      "metadata": {
        "id": "FnJizPyYB0AH",
        "colab": {
          "base_uri": "https://localhost:8080/",
          "height": 165,
          "referenced_widgets": [
            "3fd663c5adce4e94bfcde852d18ec42b",
            "d7cffb35b487466091cc0ee2a2d45509",
            "4137f1c17fb5450ba648080d53844a8c",
            "10ca5719d9e6433f91dc56d951e89665",
            "a86e9b1526494921a273c18569c9cfb4",
            "fb1d8b6ef41f4a86a1b78cf493ad4c8e",
            "f6dfa88796ba4b9198316a93504a5ade",
            "0560ff3446a74c13b0ef863da5738e33",
            "52927ca245074f1cae2cb89848dcc67b",
            "8cb871c1d576426180b8ee2bd0908d77",
            "baff2b7148a7436581d01542b476da14",
            "65cf2acb4c064024b01cbd3e084b21bd",
            "e0b07fb548d7419d94ea7003289032aa",
            "e56c0d556ab646168fadc51ade797f68",
            "350d1801f4cd4ff491824d8152a63606",
            "aa55f1bd00c44f638dd5985024def5cb",
            "22062ae3b1d24643ab828b126bd08aed",
            "2c592afc28094ff6b8d074a806bc9358",
            "bb17c618cb6940c4a91bf9f766f154b4",
            "be117e4431c949e89c26309fd95c3811",
            "7f0e629d71e445a2b751995008ea0e97",
            "a7d2b99b851b4d7c9c5c48ce18b176bf",
            "0b686e274acd43c5b3bc37e3be129239",
            "e9c9769bb8ba42b8b312d4d3f4f62909"
          ]
        },
        "outputId": "fd1f2fe8-bc6d-4442-feed-11dcc6879c1e"
      },
      "source": [
        "from transformers import BertTokenizer\r\n",
        "#Tokenizer\r\n",
        "tokenizer = BertTokenizer.from_pretrained('DeepPavlov/rubert-base-cased-sentence')\r\n"
      ],
      "execution_count": null,
      "outputs": [
        {
          "output_type": "display_data",
          "data": {
            "application/vnd.jupyter.widget-view+json": {
              "model_id": "3fd663c5adce4e94bfcde852d18ec42b",
              "version_minor": 0,
              "version_major": 2
            },
            "text/plain": [
              "HBox(children=(FloatProgress(value=0.0, description='Downloading', max=1649718.0, style=ProgressStyle(descript…"
            ]
          },
          "metadata": {
            "tags": []
          }
        },
        {
          "output_type": "stream",
          "text": [
            "\n"
          ],
          "name": "stdout"
        },
        {
          "output_type": "display_data",
          "data": {
            "application/vnd.jupyter.widget-view+json": {
              "model_id": "52927ca245074f1cae2cb89848dcc67b",
              "version_minor": 0,
              "version_major": 2
            },
            "text/plain": [
              "HBox(children=(FloatProgress(value=0.0, description='Downloading', max=112.0, style=ProgressStyle(description_…"
            ]
          },
          "metadata": {
            "tags": []
          }
        },
        {
          "output_type": "stream",
          "text": [
            "\n"
          ],
          "name": "stdout"
        },
        {
          "output_type": "display_data",
          "data": {
            "application/vnd.jupyter.widget-view+json": {
              "model_id": "22062ae3b1d24643ab828b126bd08aed",
              "version_minor": 0,
              "version_major": 2
            },
            "text/plain": [
              "HBox(children=(FloatProgress(value=0.0, description='Downloading', max=24.0, style=ProgressStyle(description_w…"
            ]
          },
          "metadata": {
            "tags": []
          }
        },
        {
          "output_type": "stream",
          "text": [
            "\n"
          ],
          "name": "stdout"
        }
      ]
    },
    {
      "cell_type": "code",
      "metadata": {
        "id": "o_oQlfeIkoJT"
      },
      "source": [
        "import json\r\n",
        "import re\r\n",
        "\r\n",
        "def get_X_y(path, mode = 'base'):\r\n",
        "  \r\n",
        "  with open(path, 'r') as json_file:\r\n",
        "    if mode == 'base':\r\n",
        "      y = []\r\n",
        "    X = []\r\n",
        "    json_list = list(json_file)\r\n",
        "    for json_str in json_list:\r\n",
        "      item = json.loads(json_str)\r\n",
        "      text = re.sub('\\\n', ' ', item['passage']['text'])\r\n",
        "      text = re.sub('[^а-яА-Я,.: !?0-9]', '', text)\r\n",
        "      used = dict()\r\n",
        "      for entiti in item['passage']['entities']:\r\n",
        "        start = entiti['start']\r\n",
        "        end = entiti['end']\r\n",
        "        candidate = item['passage']['text'][start:end]\r\n",
        "        if candidate in used:\r\n",
        "          if mode == 'test':\r\n",
        "            out_map[-1] -= 1\r\n",
        "          continue\r\n",
        "        elif mode == 'test':\r\n",
        "          out_ent.append(entiti)\r\n",
        "        used[candidate] = 1\r\n",
        "        query = re.sub('[^а-яА-Я,.: !?(@placeholder)0-9]', '', item['qas'][0]['query'])\r\n",
        "        query = re.sub('@placeholder', '[MASK]' + candidate + '[MASK]', query)\r\n",
        "        query = re.sub('\\\n', ' ', query)\r\n",
        "        X.append(text + ' [unused1] ' + query + '[SEP]' + candidate)\r\n",
        "        if mode == 'base':\r\n",
        "          for ans in item['qas'][0]['answers']:\r\n",
        "            if start == ans['start'] and end == ans['end']:\r\n",
        "              y.append(1)\r\n",
        "              break\r\n",
        "          else:\r\n",
        "            y.append(0)\r\n",
        "    if mode == 'base':\r\n",
        "      return X, y\r\n",
        "    return X, out_map, out_ent"
      ],
      "execution_count": null,
      "outputs": []
    },
    {
      "cell_type": "code",
      "metadata": {
        "id": "Y_ightd1vnl5"
      },
      "source": [
        "X_train, y_train  = get_X_y('/content/rucos_train.jsonl')\r\n",
        "X_val, y_val  = get_X_y('/content/rucos_val.jsonl')"
      ],
      "execution_count": null,
      "outputs": []
    },
    {
      "cell_type": "code",
      "metadata": {
        "id": "KetwX1HhSiJ-"
      },
      "source": [
        "import json\r\n",
        "import re\r\n",
        "\r\n",
        "def get_X_y_test(path):\r\n",
        "  \r\n",
        "  with open(path, 'r') as json_file:\r\n",
        "    X = []\r\n",
        "    json_list = list(json_file)\r\n",
        "    for json_str in json_list:\r\n",
        "      item = json.loads(json_str)\r\n",
        "      text = re.sub('\\\n', ' ', item['passage']['text'])\r\n",
        "      text = re.sub('[^а-яА-Я,.: !?0-9]', '', text)\r\n",
        "      for entiti in item['passage']['entities']:\r\n",
        "        start = entiti['start']\r\n",
        "        end = entiti['end']\r\n",
        "        candidate = item['passage']['text'][start:end]\r\n",
        "        query = re.sub('[^а-яА-Я,.: !?(@placeholder)0-9]', '', item['qas'][0]['query'])\r\n",
        "        query = re.sub('@placeholder', '[MASK]' + candidate + '[MASK]', query)\r\n",
        "        query = re.sub('\\\\n', ' ', query)\r\n",
        "        X.append(text + '[unused1]' + query + '[SEP]' + candidate)\r\n",
        "    return X"
      ],
      "execution_count": null,
      "outputs": []
    },
    {
      "cell_type": "code",
      "metadata": {
        "id": "ddNwXe_BTGaE"
      },
      "source": [
        "X_test = get_X_y_test('/content/rucos_test.jsonl')"
      ],
      "execution_count": null,
      "outputs": []
    },
    {
      "cell_type": "code",
      "metadata": {
        "id": "kiKTcxhRjSh6"
      },
      "source": [
        "def stableData(X, y, mode):\r\n",
        "    from sklearn.utils import shuffle\r\n",
        "\r\n",
        "    y_one = [f for f in y if f == 1]\r\n",
        "    X_one = [x for x, f in zip(X,y) if f == 1]\r\n",
        "\r\n",
        "    X_one, y_one = shuffle(X_one, y_one, random_state=1140)\r\n",
        "    k = 2\r\n",
        "    if mode == 'val': k = 10\r\n",
        "    X_one = X_one[:len(X_one) // k]\r\n",
        "    y_one = y_one[:len(y_one) // k]\r\n",
        "    \r\n",
        "    y_zero = [f for f in y if f == 0 ]\r\n",
        "    X_zero = [x for x, f in zip(X,y) if f == 0 ]0 ]\r\n",
        "    \r\n",
        "    X_zero, y_zero = shuffle(X_zero, y_zero, random_state=1140)\r\n",
        "    y_zero = y_zero[:len(y_one)*5]\r\n",
        "    X_zero = X_zero[:len(y_one)*5]\r\n",
        "\r\n",
        "    return (X_zero + X_one, y_zero + y_one)"
      ],
      "execution_count": null,
      "outputs": []
    },
    {
      "cell_type": "code",
      "metadata": {
        "id": "8ke5NmvCkBPA"
      },
      "source": [
        "#X_train, y_train = stableData(X_train, y_train, 'train')\r\n",
        "X_val, y_val = stableData(X_val, y_val, 'train')"
      ],
      "execution_count": null,
      "outputs": []
    },
    {
      "cell_type": "code",
      "metadata": {
        "colab": {
          "base_uri": "https://localhost:8080/"
        },
        "id": "9ySYwAtwleyH",
        "outputId": "e6bac7ff-3762-4eaf-ec74-d822807275d7"
      },
      "source": [
        "from collections import Counter\r\n",
        "Counter(y_val)"
      ],
      "execution_count": null,
      "outputs": [
        {
          "output_type": "execute_result",
          "data": {
            "text/plain": [
              "Counter({0: 33125, 1: 6625})"
            ]
          },
          "metadata": {
            "tags": []
          },
          "execution_count": 18
        }
      ]
    },
    {
      "cell_type": "code",
      "metadata": {
        "id": "D33WR3T3zzmd"
      },
      "source": [
        "import torch.nn as nn\r\n",
        "import torch.nn.functional as f\r\n",
        "from torch.nn import ModuleList, ModuleDict\r\n",
        "from torch.utils.data import TensorDataset, DataLoader, RandomSampler, SequentialSampler"
      ],
      "execution_count": null,
      "outputs": []
    },
    {
      "cell_type": "code",
      "metadata": {
        "id": "68pJTqRzsM3L"
      },
      "source": [
        "train_encodings = tokenizer(X_train, truncation=True, padding='max_length', max_length=512)\r\n",
        "val_encodings = tokenizer(X_val, truncation=True, padding='max_length', max_length=512)"
      ],
      "execution_count": null,
      "outputs": []
    },
    {
      "cell_type": "code",
      "metadata": {
        "id": "ufPTbx45WjrZ"
      },
      "source": [
        "test_encodings = tokenizer(X_test, truncation=True, padding='max_length', max_length=512)"
      ],
      "execution_count": null,
      "outputs": []
    },
    {
      "cell_type": "code",
      "metadata": {
        "id": "AcRTvo_Wtxd-"
      },
      "source": [
        "import torch\r\n",
        "\r\n",
        "class RUCosDataset(torch.utils.data.Dataset):\r\n",
        "    def __init__(self, encodings, labels):\r\n",
        "        self.encodings = encodings\r\n",
        "        self.labels = labels\r\n",
        "\r\n",
        "    def __getitem__(self, idx):\r\n",
        "        item = {key: torch.tensor(val[idx]) for key, val in self.encodings.items()}\r\n",
        "        item['labels'] = torch.tensor(self.labels[idx])\r\n",
        "        return item\r\n",
        "\r\n",
        "    def __len__(self):\r\n",
        "        return len(self.labels)\r\n",
        "\r\n",
        "train_dataset = RUCosDataset(train_encodings, y_train)\r\n",
        "val_dataset = RUCosDataset(val_encodings, y_val)"
      ],
      "execution_count": null,
      "outputs": []
    },
    {
      "cell_type": "code",
      "metadata": {
        "id": "lXrKphkkYLYB"
      },
      "source": [
        "import torch\r\n",
        "\r\n",
        "class RUCosTestDataset(torch.utils.data.Dataset):\r\n",
        "    def __init__(self, encodings):\r\n",
        "        self.encodings = encodings\r\n",
        "\r\n",
        "    def __getitem__(self, idx):\r\n",
        "        item = {key: torch.tensor(val[idx]) for key, val in self.encodings.items()}\r\n",
        "        #item['labels'] = 0\r\n",
        "        return item\r\n",
        "\r\n",
        "    def __len__(self):\r\n",
        "        return len(self.encodings['attention_mask'])\r\n",
        "\r\n",
        "test_dataset = RUCosTestDataset(test_encodings)"
      ],
      "execution_count": null,
      "outputs": []
    },
    {
      "cell_type": "code",
      "metadata": {
        "id": "4oWmMDGz37YF",
        "colab": {
          "base_uri": "https://localhost:8080/"
        },
        "outputId": "24c7a533-1a6b-4bf1-8a22-87701e278977"
      },
      "source": [
        "from transformers import BertForSequenceClassification\r\n",
        "\r\n",
        "model = BertForSequenceClassification.from_pretrained('DeepPavlov/rubert-base-cased-sentence', output_attentions=False).to('cuda')"
      ],
      "execution_count": null,
      "outputs": [
        {
          "output_type": "stream",
          "text": [
            "Some weights of BertForSequenceClassification were not initialized from the model checkpoint at DeepPavlov/rubert-base-cased-sentence and are newly initialized: ['classifier.bias', 'classifier.weight']\n",
            "You should probably TRAIN this model on a down-stream task to be able to use it for predictions and inference.\n"
          ],
          "name": "stderr"
        }
      ]
    },
    {
      "cell_type": "code",
      "metadata": {
        "id": "rvLYfjGDanWQ"
      },
      "source": [
        "for param in model.parameters():\r\n",
        "    param.requires_grad = False\r\n",
        "\r\n",
        "for param in model.classifier.parameters():\r\n",
        "    param.requires_grad = True\r\n",
        "\r\n",
        "#for name, param in model.named_parameters():\r\n",
        "#    for i in range(10,12):\r\n",
        "#        if 'classifier' in name or str(i) in name or 'pooler' in name:\r\n",
        "#            param.requires_grad = True"
      ],
      "execution_count": null,
      "outputs": []
    },
    {
      "cell_type": "code",
      "metadata": {
        "id": "n-EkuU2WXkg6"
      },
      "source": [
        "from ranger import Ranger  # this is from ranger.py\r\n",
        "from ranger import RangerVA  # this is from ranger913A.py\r\n",
        "from ranger import RangerQH  # this is from rangerqh.py\r\n",
        "from transformers import Trainer, TrainingArguments, get_cosine_with_hard_restarts_schedule_with_warmup, get_linear_schedule_with_warmup\r\n",
        "\r\n",
        "#optim = Ranger(model.parameters(), lr=0.003)\r\n",
        "#sched = get_linear_schedule_with_warmup(optim, 200, len(train_dataset))"
      ],
      "execution_count": null,
      "outputs": []
    },
    {
      "cell_type": "code",
      "metadata": {
        "id": "iAFjT6-DpPWh"
      },
      "source": [
        "seed_val = 1190\r\n",
        "\r\n",
        "#random.seed(seed_val)\r\n",
        "#np.random.seed(seed_val)\r\n",
        "torch.manual_seed(seed_val)\r\n",
        "torch.cuda.manual_seed_all(seed_val)"
      ],
      "execution_count": null,
      "outputs": []
    },
    {
      "cell_type": "code",
      "metadata": {
        "id": "xFB9RNatKKbH"
      },
      "source": [
        "from sklearn.metrics import precision_recall_fscore_support, accuracy_score\r\n",
        "\r\n",
        "def compute_metrics(pred):\r\n",
        "    labels = pred.label_ids\r\n",
        "    preds = pred.predictions.argmax(-1)\r\n",
        "    precision, recall, f1, _ = precision_recall_fscore_support(labels, preds, average='binary')\r\n",
        "    acc = accuracy_score(labels, preds)\r\n",
        "    return {\r\n",
        "        'accuracy': acc,\r\n",
        "        'f1': f1,\r\n",
        "        'precision': precision,\r\n",
        "        'recall': recall\r\n",
        "    }"
      ],
      "execution_count": null,
      "outputs": []
    },
    {
      "cell_type": "code",
      "metadata": {
        "colab": {
          "base_uri": "https://localhost:8080/",
          "height": 438
        },
        "id": "hZcXSr9nn9Bz",
        "outputId": "01c7a627-d9e1-4457-ff87-5b6cf2c973c6"
      },
      "source": [
        "\r\n",
        "\r\n",
        "training_args = TrainingArguments(\r\n",
        "    output_dir='content/drive/ai_final/results',          # output directory\r\n",
        "    evaluation_strategy=\"epoch\",     # Evaluation is done at the end of each epoch.\r\n",
        "    num_train_epochs=0.03,              # total number of training epochs\r\n",
        "    per_device_train_batch_size=48,  # batch size per device during training\r\n",
        "    per_device_eval_batch_size=64,   # batch size for evaluation\r\n",
        "    warmup_steps=200,                # number of warmup steps for learning rate scheduler\r\n",
        "    weight_decay=0.01,               # strength of weight decay\r\n",
        "    save_total_limit=1,              # limit the total amount of checkpoints. Deletes the older checkpoints.\r\n",
        "    gradient_accumulation_steps=1,\r\n",
        "    seed=1140,\r\n",
        "    fp16_backend='auto',\r\n",
        "    lr_scheduler_type='cosine_with_restarts'\r\n",
        ")\r\n",
        "\r\n",
        "\r\n",
        "trainer = Trainer(\r\n",
        "    model=model,                         # the instantiated 🤗 Transformers model to be trained\r\n",
        "    args=training_args,                  # training arguments, defined above\r\n",
        "    train_dataset=train_dataset,         # training dataset\r\n",
        "    eval_dataset=val_dataset,             # evaluation dataset\r\n",
        "    #optimizers=(optim, sched)\r\n",
        "    compute_metrics=compute_metrics,\r\n",
        "    \r\n",
        ")\r\n",
        "\r\n",
        "trainer.train()"
      ],
      "execution_count": null,
      "outputs": [
        {
          "output_type": "display_data",
          "data": {
            "text/html": [
              "\n",
              "    <div>\n",
              "        <style>\n",
              "            /* Turns off some styling */\n",
              "            progress {\n",
              "                /* gets rid of default border in Firefox and Opera. */\n",
              "                border: none;\n",
              "                /* Needs to be in here for Safari polyfill so background images work as expected. */\n",
              "                background-size: auto;\n",
              "            }\n",
              "        </style>\n",
              "      \n",
              "      <progress value='213' max='14354' style='width:300px; height:20px; vertical-align: middle;'></progress>\n",
              "      [  213/14354 03:06 < 3:28:29, 1.13 it/s, Epoch 0.01/1]\n",
              "    </div>\n",
              "    <table border=\"1\" class=\"dataframe\">\n",
              "  <thead>\n",
              "    <tr style=\"text-align: left;\">\n",
              "      <th>Epoch</th>\n",
              "      <th>Training Loss</th>\n",
              "      <th>Validation Loss</th>\n",
              "    </tr>\n",
              "  </thead>\n",
              "  <tbody>\n",
              "  </tbody>\n",
              "</table><p>"
            ],
            "text/plain": [
              "<IPython.core.display.HTML object>"
            ]
          },
          "metadata": {
            "tags": []
          }
        },
        {
          "output_type": "error",
          "ename": "KeyboardInterrupt",
          "evalue": "ignored",
          "traceback": [
            "\u001b[0;31m---------------------------------------------------------------------------\u001b[0m",
            "\u001b[0;31mKeyboardInterrupt\u001b[0m                         Traceback (most recent call last)",
            "\u001b[0;32m<ipython-input-42-ac2c623cd751>\u001b[0m in \u001b[0;36m<module>\u001b[0;34m()\u001b[0m\n\u001b[1;32m     27\u001b[0m )\n\u001b[1;32m     28\u001b[0m \u001b[0;34m\u001b[0m\u001b[0m\n\u001b[0;32m---> 29\u001b[0;31m \u001b[0mtrainer\u001b[0m\u001b[0;34m.\u001b[0m\u001b[0mtrain\u001b[0m\u001b[0;34m(\u001b[0m\u001b[0;34m)\u001b[0m\u001b[0;34m\u001b[0m\u001b[0;34m\u001b[0m\u001b[0m\n\u001b[0m",
            "\u001b[0;32m/usr/local/lib/python3.7/dist-packages/transformers/trainer.py\u001b[0m in \u001b[0;36mtrain\u001b[0;34m(self, resume_from_checkpoint, trial, **kwargs)\u001b[0m\n\u001b[1;32m    961\u001b[0m                             torch.nn.utils.clip_grad_norm_(\n\u001b[1;32m    962\u001b[0m                                 \u001b[0mamp\u001b[0m\u001b[0;34m.\u001b[0m\u001b[0mmaster_params\u001b[0m\u001b[0;34m(\u001b[0m\u001b[0mself\u001b[0m\u001b[0;34m.\u001b[0m\u001b[0moptimizer\u001b[0m\u001b[0;34m)\u001b[0m \u001b[0;32mif\u001b[0m \u001b[0mself\u001b[0m\u001b[0;34m.\u001b[0m\u001b[0muse_apex\u001b[0m \u001b[0;32melse\u001b[0m \u001b[0mmodel\u001b[0m\u001b[0;34m.\u001b[0m\u001b[0mparameters\u001b[0m\u001b[0;34m(\u001b[0m\u001b[0;34m)\u001b[0m\u001b[0;34m,\u001b[0m\u001b[0;34m\u001b[0m\u001b[0;34m\u001b[0m\u001b[0m\n\u001b[0;32m--> 963\u001b[0;31m                                 \u001b[0mself\u001b[0m\u001b[0;34m.\u001b[0m\u001b[0margs\u001b[0m\u001b[0;34m.\u001b[0m\u001b[0mmax_grad_norm\u001b[0m\u001b[0;34m,\u001b[0m\u001b[0;34m\u001b[0m\u001b[0;34m\u001b[0m\u001b[0m\n\u001b[0m\u001b[1;32m    964\u001b[0m                             )\n\u001b[1;32m    965\u001b[0m \u001b[0;34m\u001b[0m\u001b[0m\n",
            "\u001b[0;32m/usr/local/lib/python3.7/dist-packages/torch/nn/utils/clip_grad.py\u001b[0m in \u001b[0;36mclip_grad_norm_\u001b[0;34m(parameters, max_norm, norm_type)\u001b[0m\n\u001b[1;32m     36\u001b[0m         \u001b[0mtotal_norm\u001b[0m \u001b[0;34m=\u001b[0m \u001b[0mtorch\u001b[0m\u001b[0;34m.\u001b[0m\u001b[0mnorm\u001b[0m\u001b[0;34m(\u001b[0m\u001b[0mtorch\u001b[0m\u001b[0;34m.\u001b[0m\u001b[0mstack\u001b[0m\u001b[0;34m(\u001b[0m\u001b[0;34m[\u001b[0m\u001b[0mtorch\u001b[0m\u001b[0;34m.\u001b[0m\u001b[0mnorm\u001b[0m\u001b[0;34m(\u001b[0m\u001b[0mp\u001b[0m\u001b[0;34m.\u001b[0m\u001b[0mgrad\u001b[0m\u001b[0;34m.\u001b[0m\u001b[0mdetach\u001b[0m\u001b[0;34m(\u001b[0m\u001b[0;34m)\u001b[0m\u001b[0;34m,\u001b[0m \u001b[0mnorm_type\u001b[0m\u001b[0;34m)\u001b[0m\u001b[0;34m.\u001b[0m\u001b[0mto\u001b[0m\u001b[0;34m(\u001b[0m\u001b[0mdevice\u001b[0m\u001b[0;34m)\u001b[0m \u001b[0;32mfor\u001b[0m \u001b[0mp\u001b[0m \u001b[0;32min\u001b[0m \u001b[0mparameters\u001b[0m\u001b[0;34m]\u001b[0m\u001b[0;34m)\u001b[0m\u001b[0;34m,\u001b[0m \u001b[0mnorm_type\u001b[0m\u001b[0;34m)\u001b[0m\u001b[0;34m\u001b[0m\u001b[0;34m\u001b[0m\u001b[0m\n\u001b[1;32m     37\u001b[0m     \u001b[0mclip_coef\u001b[0m \u001b[0;34m=\u001b[0m \u001b[0mmax_norm\u001b[0m \u001b[0;34m/\u001b[0m \u001b[0;34m(\u001b[0m\u001b[0mtotal_norm\u001b[0m \u001b[0;34m+\u001b[0m \u001b[0;36m1e-6\u001b[0m\u001b[0;34m)\u001b[0m\u001b[0;34m\u001b[0m\u001b[0;34m\u001b[0m\u001b[0m\n\u001b[0;32m---> 38\u001b[0;31m     \u001b[0;32mif\u001b[0m \u001b[0mclip_coef\u001b[0m \u001b[0;34m<\u001b[0m \u001b[0;36m1\u001b[0m\u001b[0;34m:\u001b[0m\u001b[0;34m\u001b[0m\u001b[0;34m\u001b[0m\u001b[0m\n\u001b[0m\u001b[1;32m     39\u001b[0m         \u001b[0;32mfor\u001b[0m \u001b[0mp\u001b[0m \u001b[0;32min\u001b[0m \u001b[0mparameters\u001b[0m\u001b[0;34m:\u001b[0m\u001b[0;34m\u001b[0m\u001b[0;34m\u001b[0m\u001b[0m\n\u001b[1;32m     40\u001b[0m             \u001b[0mp\u001b[0m\u001b[0;34m.\u001b[0m\u001b[0mgrad\u001b[0m\u001b[0;34m.\u001b[0m\u001b[0mdetach\u001b[0m\u001b[0;34m(\u001b[0m\u001b[0;34m)\u001b[0m\u001b[0;34m.\u001b[0m\u001b[0mmul_\u001b[0m\u001b[0;34m(\u001b[0m\u001b[0mclip_coef\u001b[0m\u001b[0;34m.\u001b[0m\u001b[0mto\u001b[0m\u001b[0;34m(\u001b[0m\u001b[0mp\u001b[0m\u001b[0;34m.\u001b[0m\u001b[0mgrad\u001b[0m\u001b[0;34m.\u001b[0m\u001b[0mdevice\u001b[0m\u001b[0;34m)\u001b[0m\u001b[0;34m)\u001b[0m\u001b[0;34m\u001b[0m\u001b[0;34m\u001b[0m\u001b[0m\n",
            "\u001b[0;31mKeyboardInterrupt\u001b[0m: "
          ]
        }
      ]
    },
    {
      "cell_type": "code",
      "metadata": {
        "id": "FnjTLAe16OqK"
      },
      "source": [
        "for name, param in model.named_parameters():\r\n",
        "    for i in range(9,12):\r\n",
        "        if 'classifier' in name or str(i) in name or 'pooler' in name:\r\n",
        "            param.requires_grad = True"
      ],
      "execution_count": null,
      "outputs": []
    },
    {
      "cell_type": "code",
      "metadata": {
        "colab": {
          "base_uri": "https://localhost:8080/",
          "height": 143
        },
        "id": "4mWjAMfF6Vdn",
        "outputId": "71a0ebca-e013-4d68-b9b5-da7ec615fa9b"
      },
      "source": [
        "training_args = TrainingArguments(\r\n",
        "    output_dir='content/drive/ai_final/results',          # output directory\r\n",
        "    evaluation_strategy=\"epoch\",     # Evaluation is done at the end of each epoch.\r\n",
        "    num_train_epochs=1,              # total number of training epochs\r\n",
        "    per_device_train_batch_size=48,  # batch size per device during training\r\n",
        "    per_device_eval_batch_size=64,   # batch size for evaluation\r\n",
        "    warmup_steps=200,                # number of warmup steps for learning rate scheduler\r\n",
        "    weight_decay=0.01,               # strength of weight decay\r\n",
        "    save_total_limit=1,              # limit the total amount of checkpoints. Deletes the older checkpoints.\r\n",
        "    gradient_accumulation_steps=1,\r\n",
        "    seed=1140,\r\n",
        "    fp16_backend='auto',\r\n",
        "    lr_scheduler_type='cosine_with_restarts'\r\n",
        ")\r\n",
        "\r\n",
        "\r\n",
        "trainer = Trainer(\r\n",
        "    model=model,                         # the instantiated 🤗 Transformers model to be trained\r\n",
        "    args=training_args,                  # training arguments, defined above\r\n",
        "    train_dataset=train_dataset,         # training dataset\r\n",
        "    eval_dataset=val_dataset,             # evaluation dataset\r\n",
        "    #optimizers=(optim, sched)\r\n",
        "    compute_metrics=compute_metrics,\r\n",
        "    \r\n",
        ")\r\n",
        "\r\n",
        "trainer.train()"
      ],
      "execution_count": null,
      "outputs": [
        {
          "output_type": "display_data",
          "data": {
            "text/html": [
              "\n",
              "    <div>\n",
              "        <style>\n",
              "            /* Turns off some styling */\n",
              "            progress {\n",
              "                /* gets rid of default border in Firefox and Opera. */\n",
              "                border: none;\n",
              "                /* Needs to be in here for Safari polyfill so background images work as expected. */\n",
              "                background-size: auto;\n",
              "            }\n",
              "        </style>\n",
              "      \n",
              "      <progress value='14354' max='14354' style='width:300px; height:20px; vertical-align: middle;'></progress>\n",
              "      [14354/14354 5:16:28, Epoch 1/1]\n",
              "    </div>\n",
              "    <table border=\"1\" class=\"dataframe\">\n",
              "  <thead>\n",
              "    <tr style=\"text-align: left;\">\n",
              "      <th>Epoch</th>\n",
              "      <th>Training Loss</th>\n",
              "      <th>Validation Loss</th>\n",
              "      <th>Accuracy</th>\n",
              "      <th>F1</th>\n",
              "      <th>Precision</th>\n",
              "      <th>Recall</th>\n",
              "      <th>Runtime</th>\n",
              "      <th>Samples Per Second</th>\n",
              "    </tr>\n",
              "  </thead>\n",
              "  <tbody>\n",
              "    <tr>\n",
              "      <td>1</td>\n",
              "      <td>0.245400</td>\n",
              "      <td>0.256244</td>\n",
              "      <td>0.886088</td>\n",
              "      <td>0.618598</td>\n",
              "      <td>0.699828</td>\n",
              "      <td>0.554264</td>\n",
              "      <td>677.310200</td>\n",
              "      <td>58.688000</td>\n",
              "    </tr>\n",
              "  </tbody>\n",
              "</table><p>"
            ],
            "text/plain": [
              "<IPython.core.display.HTML object>"
            ]
          },
          "metadata": {
            "tags": []
          }
        },
        {
          "output_type": "execute_result",
          "data": {
            "text/plain": [
              "TrainOutput(global_step=14354, training_loss=0.2778726699741933, metrics={'train_runtime': 18989.6912, 'train_samples_per_second': 0.756, 'total_flos': 376429053566404608, 'epoch': 1.0})"
            ]
          },
          "metadata": {
            "tags": []
          },
          "execution_count": 44
        }
      ]
    },
    {
      "cell_type": "code",
      "metadata": {
        "colab": {
          "base_uri": "https://localhost:8080/",
          "height": 37
        },
        "id": "rDNGOlbpWXQB",
        "outputId": "35f5309f-952c-457b-fb8e-6e1494851c01"
      },
      "source": [
        "pred = trainer.predict(test_dataset)"
      ],
      "execution_count": null,
      "outputs": [
        {
          "output_type": "display_data",
          "data": {
            "text/html": [
              "\n",
              "    <div>\n",
              "        <style>\n",
              "            /* Turns off some styling */\n",
              "            progress {\n",
              "                /* gets rid of default border in Firefox and Opera. */\n",
              "                border: none;\n",
              "                /* Needs to be in here for Safari polyfill so background images work as expected. */\n",
              "                background-size: auto;\n",
              "            }\n",
              "        </style>\n",
              "      \n",
              "      <progress value='1516' max='1516' style='width:300px; height:20px; vertical-align: middle;'></progress>\n",
              "      [1516/1516 27:32]\n",
              "    </div>\n",
              "    "
            ],
            "text/plain": [
              "<IPython.core.display.HTML object>"
            ]
          },
          "metadata": {
            "tags": []
          }
        }
      ]
    },
    {
      "cell_type": "code",
      "metadata": {
        "id": "5i5720-v86pD"
      },
      "source": [
        "curr = 0\r\n",
        "outs = pred[0]\r\n",
        "ans = []\r\n",
        "import numpy as np\r\n",
        "with open('rucos_test.jsonl', 'r') as json_file:\r\n",
        "        json_list = list(json_file)\r\n",
        "        for json_str in json_list:\r\n",
        "            item = json.loads(json_str)\r\n",
        "            text = item['passage']['text']\r\n",
        "            ents = item['passage']['entities']\r\n",
        "            quas = item['qas']\r\n",
        "\r\n",
        "            for q in quas:\r\n",
        "                #x_q = q['query']\r\n",
        "                preds = outs[curr:curr+len(ents)]\r\n",
        "                #print(curr)\r\n",
        "                preds = np.argmax(np.array([p[1] for p in preds]))\r\n",
        "                #print(preds)\r\n",
        "                curr += len(ents)\r\n",
        "                txt_e = text[ents[preds]['start']:ents[preds]['end']]\r\n",
        "                ans.append({'idx': q['idx'], 'start': ents[preds]['start'],\r\n",
        "                            'end': ents[preds]['end'], 'text': txt_e})"
      ],
      "execution_count": null,
      "outputs": []
    },
    {
      "cell_type": "code",
      "metadata": {
        "id": "Q53eHH2g_bDe"
      },
      "source": [
        "def save_output(data, path):\r\n",
        "    with open(path, mode=\"w\") as file:\r\n",
        "        for line in sorted(data, key=lambda x: int(x.get(\"idx\"))):\r\n",
        "            line[\"idx\"] = int(line[\"idx\"])\r\n",
        "            file.write(f\"{json.dumps(line, ensure_ascii=False)}\\\n\")"
      ],
      "execution_count": null,
      "outputs": []
    },
    {
      "cell_type": "code",
      "metadata": {
        "id": "mHBORsxWZ9yD"
      },
      "source": [
        "save_output(ans, \"out.jsonl\")"
      ],
      "execution_count": null,
      "outputs": []
    }
  ]
}"